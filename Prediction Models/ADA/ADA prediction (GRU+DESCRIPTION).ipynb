{
 "cells": [
  {
   "cell_type": "markdown",
   "id": "596219d7-d0fb-4720-b1e9-7a1dfe3a364d",
   "metadata": {},
   "source": [
    "## Import Necessary Libraries"
   ]
  },
  {
   "cell_type": "code",
   "execution_count": 2,
   "id": "2d97d154-f1c4-4f84-a6ff-81a8258e5fe8",
   "metadata": {},
   "outputs": [],
   "source": [
    "import pandas as pd\n",
    "import numpy as np\n",
    "import mysql.connector\n",
    "import re\n",
    "import nltk\n",
    "import joblib\n",
    "import yfinance as yf\n",
    "import matplotlib.pyplot as plt\n",
    "import seaborn as sns\n",
    "from datetime import datetime, timedelta\n",
    "from sklearn.model_selection import train_test_split\n",
    "from sklearn.preprocessing import MinMaxScaler\n",
    "from sklearn.metrics import mean_squared_error, mean_absolute_error, r2_score\n",
    "from nltk.corpus import stopwords\n",
    "from nltk.tokenize import word_tokenize\n",
    "from nltk.stem import WordNetLemmatizer\n",
    "from vaderSentiment.vaderSentiment import SentimentIntensityAnalyzer\n",
    "from keras.models import Sequential\n",
    "from keras.layers import LSTM, Dropout, Bidirectional, Dense\n",
    "from keras_tuner import RandomSearch, Hyperband\n",
    "from keras.callbacks import EarlyStopping, ReduceLROnPlateau\n",
    "import keras_tuner as kt\n",
    "import spacy\n",
    "from collections import defaultdict\n",
    "import tensorflow as tf\n",
    "from tensorflow.keras import layers"
   ]
  },
  {
   "cell_type": "code",
   "execution_count": 3,
   "id": "4849222c-c360-45ac-ae86-1117d9b2d902",
   "metadata": {},
   "outputs": [
    {
     "name": "stderr",
     "output_type": "stream",
     "text": [
      "[nltk_data] Downloading package punkt to\n",
      "[nltk_data]     C:\\Users\\acer\\AppData\\Roaming\\nltk_data...\n",
      "[nltk_data]   Package punkt is already up-to-date!\n",
      "[nltk_data] Downloading package stopwords to\n",
      "[nltk_data]     C:\\Users\\acer\\AppData\\Roaming\\nltk_data...\n",
      "[nltk_data]   Package stopwords is already up-to-date!\n",
      "[nltk_data] Downloading package vader_lexicon to\n",
      "[nltk_data]     C:\\Users\\acer\\AppData\\Roaming\\nltk_data...\n",
      "[nltk_data]   Package vader_lexicon is already up-to-date!\n",
      "[nltk_data] Downloading package wordnet to\n",
      "[nltk_data]     C:\\Users\\acer\\AppData\\Roaming\\nltk_data...\n",
      "[nltk_data]   Package wordnet is already up-to-date!\n"
     ]
    },
    {
     "data": {
      "text/plain": [
       "True"
      ]
     },
     "execution_count": 3,
     "metadata": {},
     "output_type": "execute_result"
    }
   ],
   "source": [
    "# Download NLTK resources\n",
    "nltk.download('punkt')\n",
    "nltk.download('stopwords')\n",
    "nltk.download('vader_lexicon')\n",
    "nltk.download('wordnet')"
   ]
  },
  {
   "cell_type": "markdown",
   "id": "e0f806af-5ee0-4d3e-b2fb-3933b3fc1d3e",
   "metadata": {},
   "source": [
    "## Fetch News Data"
   ]
  },
  {
   "cell_type": "code",
   "execution_count": 5,
   "id": "9d129ba1-ebcb-4f1b-99f9-066b3612620c",
   "metadata": {},
   "outputs": [
    {
     "name": "stderr",
     "output_type": "stream",
     "text": [
      "C:\\Users\\acer\\AppData\\Local\\Temp\\ipykernel_13168\\862600701.py:11: UserWarning: pandas only supports SQLAlchemy connectable (engine/connection) or database string URI or sqlite3 DBAPI2 connection. Other DBAPI2 objects are not tested. Please consider using SQLAlchemy.\n",
      "  news_data = pd.read_sql_query(query, conn)\n"
     ]
    }
   ],
   "source": [
    "# Fetch news data from MySQL\n",
    "def fetch_news_from_mysql():\n",
    "    try:\n",
    "        conn = mysql.connector.connect(\n",
    "            host='localhost',\n",
    "            user='root',\n",
    "            password='Ariyarathne99@',\n",
    "            database='crypto_news'\n",
    "        )\n",
    "        query = \"SELECT date, headline, description FROM ada_news\"\n",
    "        news_data = pd.read_sql_query(query, conn)\n",
    "        conn.close()\n",
    "        return news_data\n",
    "    except mysql.connector.Error as err:\n",
    "        print(f\"Error: {err}\")\n",
    "        return None\n",
    "\n",
    "news_data = fetch_news_from_mysql()"
   ]
  },
  {
   "cell_type": "code",
   "execution_count": 6,
   "id": "608424c1-7ebc-4c9c-bc12-3eef317629aa",
   "metadata": {},
   "outputs": [
    {
     "data": {
      "text/html": [
       "<div>\n",
       "<style scoped>\n",
       "    .dataframe tbody tr th:only-of-type {\n",
       "        vertical-align: middle;\n",
       "    }\n",
       "\n",
       "    .dataframe tbody tr th {\n",
       "        vertical-align: top;\n",
       "    }\n",
       "\n",
       "    .dataframe thead th {\n",
       "        text-align: right;\n",
       "    }\n",
       "</style>\n",
       "<table border=\"1\" class=\"dataframe\">\n",
       "  <thead>\n",
       "    <tr style=\"text-align: right;\">\n",
       "      <th></th>\n",
       "      <th>date</th>\n",
       "      <th>headline</th>\n",
       "      <th>description</th>\n",
       "    </tr>\n",
       "  </thead>\n",
       "  <tbody>\n",
       "    <tr>\n",
       "      <th>0</th>\n",
       "      <td>Jan 01, 2025</td>\n",
       "      <td>Hive Digital Relocates HQ to Texas, Citing Pro...</td>\n",
       "      <td>Bitcoin mining firm Hive Digital Technologies ...</td>\n",
       "    </tr>\n",
       "    <tr>\n",
       "      <th>1</th>\n",
       "      <td>Dec 16, 2024</td>\n",
       "      <td>Bitcoin Soars Past $106,000 Amid Hopes of U.S....</td>\n",
       "      <td>Bitcoin surged to an all-time high above $106,...</td>\n",
       "    </tr>\n",
       "    <tr>\n",
       "      <th>2</th>\n",
       "      <td>Dec 13, 2024</td>\n",
       "      <td>Japanese Lawmaker Asks Government to Create Na...</td>\n",
       "      <td>A Japanese lawmaker has asked the government t...</td>\n",
       "    </tr>\n",
       "    <tr>\n",
       "      <th>3</th>\n",
       "      <td>Nov 28, 2024</td>\n",
       "      <td>ETH Co-Founder Charles Hoskinson Predicts Bitc...</td>\n",
       "      <td>Ethereum blockchain and Cardano founder Charle...</td>\n",
       "    </tr>\n",
       "    <tr>\n",
       "      <th>4</th>\n",
       "      <td>Nov 11, 2024</td>\n",
       "      <td>Bitcoin Hits New High Over $82k on Hopes of Tr...</td>\n",
       "      <td>Bitcoin reached a record high above $82,000 on...</td>\n",
       "    </tr>\n",
       "    <tr>\n",
       "      <th>...</th>\n",
       "      <td>...</td>\n",
       "      <td>...</td>\n",
       "      <td>...</td>\n",
       "    </tr>\n",
       "    <tr>\n",
       "      <th>1558</th>\n",
       "      <td>Mar 07, 2025</td>\n",
       "      <td>Crypto and Social Media Scams Top Investor Thr...</td>\n",
       "      <td>The North American Securities Administrators A...</td>\n",
       "    </tr>\n",
       "    <tr>\n",
       "      <th>1559</th>\n",
       "      <td>Mar 16, 2025</td>\n",
       "      <td>Coinbase Seeks Approval to Launch Cardano and ...</td>\n",
       "      <td>Coinbase is moving to expand its derivatives o...</td>\n",
       "    </tr>\n",
       "    <tr>\n",
       "      <th>1560</th>\n",
       "      <td>Mar 19, 2025</td>\n",
       "      <td>Swiss Zuger Kantonalbank Adds Cardano and Aval...</td>\n",
       "      <td>On March 17, 2025, Zuger Kantonalbank, a Swiss...</td>\n",
       "    </tr>\n",
       "    <tr>\n",
       "      <th>1561</th>\n",
       "      <td>Mar 21, 2025</td>\n",
       "      <td>Japan’s Metaplanet Appoints Eric Trump to New ...</td>\n",
       "      <td>Tokyo-based Bitcoin-stacking company Metaplane...</td>\n",
       "    </tr>\n",
       "    <tr>\n",
       "      <th>1562</th>\n",
       "      <td>Mar 21, 2025</td>\n",
       "      <td>Cardano Price Holds Above Key Support Level – ...</td>\n",
       "      <td>The Cardano (ADA) price continues to hold abov...</td>\n",
       "    </tr>\n",
       "  </tbody>\n",
       "</table>\n",
       "<p>1563 rows × 3 columns</p>\n",
       "</div>"
      ],
      "text/plain": [
       "              date                                           headline  \\\n",
       "0     Jan 01, 2025  Hive Digital Relocates HQ to Texas, Citing Pro...   \n",
       "1     Dec 16, 2024  Bitcoin Soars Past $106,000 Amid Hopes of U.S....   \n",
       "2     Dec 13, 2024  Japanese Lawmaker Asks Government to Create Na...   \n",
       "3     Nov 28, 2024  ETH Co-Founder Charles Hoskinson Predicts Bitc...   \n",
       "4     Nov 11, 2024  Bitcoin Hits New High Over $82k on Hopes of Tr...   \n",
       "...            ...                                                ...   \n",
       "1558  Mar 07, 2025  Crypto and Social Media Scams Top Investor Thr...   \n",
       "1559  Mar 16, 2025  Coinbase Seeks Approval to Launch Cardano and ...   \n",
       "1560  Mar 19, 2025  Swiss Zuger Kantonalbank Adds Cardano and Aval...   \n",
       "1561  Mar 21, 2025  Japan’s Metaplanet Appoints Eric Trump to New ...   \n",
       "1562  Mar 21, 2025  Cardano Price Holds Above Key Support Level – ...   \n",
       "\n",
       "                                            description  \n",
       "0     Bitcoin mining firm Hive Digital Technologies ...  \n",
       "1     Bitcoin surged to an all-time high above $106,...  \n",
       "2     A Japanese lawmaker has asked the government t...  \n",
       "3     Ethereum blockchain and Cardano founder Charle...  \n",
       "4     Bitcoin reached a record high above $82,000 on...  \n",
       "...                                                 ...  \n",
       "1558  The North American Securities Administrators A...  \n",
       "1559  Coinbase is moving to expand its derivatives o...  \n",
       "1560  On March 17, 2025, Zuger Kantonalbank, a Swiss...  \n",
       "1561  Tokyo-based Bitcoin-stacking company Metaplane...  \n",
       "1562  The Cardano (ADA) price continues to hold abov...  \n",
       "\n",
       "[1563 rows x 3 columns]"
      ]
     },
     "execution_count": 6,
     "metadata": {},
     "output_type": "execute_result"
    }
   ],
   "source": [
    "news_data"
   ]
  },
  {
   "cell_type": "markdown",
   "id": "dd2d17a1-e782-4236-a3d9-aeb6d321246c",
   "metadata": {},
   "source": [
    "## Preprocess News Data"
   ]
  },
  {
   "cell_type": "code",
   "execution_count": 8,
   "id": "28db0d2a-229c-4941-84af-23a1d360807a",
   "metadata": {},
   "outputs": [],
   "source": [
    "# Load spaCy NLP model (efficient lemmatization)\n",
    "nlp = spacy.load(\"en_core_web_sm\", disable=[\"parser\", \"ner\"])\n",
    "\n",
    "# Load Loughran-McDonald Finance Sentiment Dictionary\n",
    "lm_positive = {    \"gain\", \"growth\", \"bullish\", \"opportunity\", \"profit\", \"surge\", \"expansion\",\n",
    "    \"adoption\", \"approval\", \"partnership\", \"innovation\", \"mainstream\", \"rally\",\n",
    "    \"institutional\", \"breakthrough\", \"stability\", \"strong\", \"all-time-high\",\n",
    "    \"liquidity\", \"halving\", \"scarcity\", \"whale accumulation\", \"stake\", \"integration\",\n",
    "    \"etf approval\", \"layer 2 scaling\", \"metaverse expansion\", \"positive outlook\"}\n",
    "\n",
    "lm_negative = {\"crash\", \"loss\", \"bearish\", \"decline\", \"debt\", \"bankruptcy\", \"downturn\",\n",
    "    \"regulatory crackdown\", \"ban\", \"fud\", \"lawsuit\", \"hacked\", \"ponzi\",\n",
    "    \"liquidation\", \"fraud\", \"scam\", \"rug pull\", \"dumping\", \"sell-off\",\n",
    "    \"volatility\", \"delisting\", \"depeg\", \"inflation\", \"recession\", \"exchange insolvency\",\n",
    "    \"crypto winter\", \"negative outlook\"}\n",
    "\n",
    "def preprocess_text(text):\n",
    "    \"\"\"Cleans, removes stopwords, and lemmatizes input text.\"\"\"\n",
    "    if pd.isnull(text):\n",
    "        return \"\"\n",
    "    text = text.lower()\n",
    "    text = re.sub(r\"http\\S+\", \"\", text)  \n",
    "    text = re.sub(r\"[^a-zA-Z\\s]\", \"\", text)  \n",
    "    text = re.sub(r\"\\s+\", \" \", text).strip()  \n",
    "    doc = nlp(text)\n",
    "    return \" \".join([token.lemma_ for token in doc if not token.is_stop])\n",
    "\n",
    "def financial_sentiment_adjustment(text, vader_score):\n",
    "    \"\"\"Adjust sentiment score using the Loughran-McDonald financial lexicon.\"\"\"\n",
    "    words = text.split()\n",
    "    adjustment = sum(0.2 if word in lm_positive else -0.2 if word in lm_negative else 0 for word in words)\n",
    "    return max(min(vader_score + adjustment, 1), -1)\n",
    "\n",
    "def preprocess_news(news_data):\n",
    "    \"\"\"Preprocess news headlines & descriptions, and extract sentiment scores.\"\"\"\n",
    "    news_data[\"cleaned_headline\"] = news_data[\"headline\"].astype(str).apply(preprocess_text)\n",
    "    news_data[\"cleaned_description\"] = news_data[\"description\"].astype(str).apply(preprocess_text)\n",
    "\n",
    "    analyzer = SentimentIntensityAnalyzer()\n",
    "    news_data[\"VADER_Headline_Sentiment\"] = news_data[\"cleaned_headline\"].apply(lambda x: analyzer.polarity_scores(x)[\"compound\"])\n",
    "    news_data[\"VADER_Description_Sentiment\"] = news_data[\"cleaned_description\"].apply(lambda x: analyzer.polarity_scores(x)[\"compound\"])\n",
    "\n",
    "    news_data[\"Final_Headline_Sentiment\"] = news_data.apply(\n",
    "        lambda row: financial_sentiment_adjustment(row[\"cleaned_headline\"], row[\"VADER_Headline_Sentiment\"]), axis=1\n",
    "    )\n",
    "    news_data[\"Final_Description_Sentiment\"] = news_data.apply(\n",
    "        lambda row: financial_sentiment_adjustment(row[\"cleaned_description\"], row[\"VADER_Description_Sentiment\"]), axis=1\n",
    "    )\n",
    "\n",
    "    news_data[\"date\"] = pd.to_datetime(news_data[\"date\"], errors=\"coerce\")\n",
    "    return news_data[[\"date\", \"Final_Headline_Sentiment\", \"Final_Description_Sentiment\"]].drop_duplicates()\n",
    "\n",
    "news_data = preprocess_news(news_data)\n",
    "news_data = news_data.groupby('date', as_index=False).mean()\n"
   ]
  },
  {
   "cell_type": "code",
   "execution_count": 9,
   "id": "e2bd7e7c-0aca-492e-b5da-5528e00e0d1f",
   "metadata": {},
   "outputs": [
    {
     "data": {
      "text/html": [
       "<div>\n",
       "<style scoped>\n",
       "    .dataframe tbody tr th:only-of-type {\n",
       "        vertical-align: middle;\n",
       "    }\n",
       "\n",
       "    .dataframe tbody tr th {\n",
       "        vertical-align: top;\n",
       "    }\n",
       "\n",
       "    .dataframe thead th {\n",
       "        text-align: right;\n",
       "    }\n",
       "</style>\n",
       "<table border=\"1\" class=\"dataframe\">\n",
       "  <thead>\n",
       "    <tr style=\"text-align: right;\">\n",
       "      <th></th>\n",
       "      <th>date</th>\n",
       "      <th>Final_Headline_Sentiment</th>\n",
       "      <th>Final_Description_Sentiment</th>\n",
       "    </tr>\n",
       "  </thead>\n",
       "  <tbody>\n",
       "    <tr>\n",
       "      <th>0</th>\n",
       "      <td>2018-01-25</td>\n",
       "      <td>0.0000</td>\n",
       "      <td>0.3612</td>\n",
       "    </tr>\n",
       "    <tr>\n",
       "      <th>1</th>\n",
       "      <td>2018-04-12</td>\n",
       "      <td>0.4732</td>\n",
       "      <td>-0.4732</td>\n",
       "    </tr>\n",
       "    <tr>\n",
       "      <th>2</th>\n",
       "      <td>2018-04-16</td>\n",
       "      <td>0.0000</td>\n",
       "      <td>0.3400</td>\n",
       "    </tr>\n",
       "    <tr>\n",
       "      <th>3</th>\n",
       "      <td>2018-04-27</td>\n",
       "      <td>0.0000</td>\n",
       "      <td>0.1027</td>\n",
       "    </tr>\n",
       "    <tr>\n",
       "      <th>4</th>\n",
       "      <td>2018-05-08</td>\n",
       "      <td>0.1531</td>\n",
       "      <td>1.0000</td>\n",
       "    </tr>\n",
       "    <tr>\n",
       "      <th>...</th>\n",
       "      <td>...</td>\n",
       "      <td>...</td>\n",
       "      <td>...</td>\n",
       "    </tr>\n",
       "    <tr>\n",
       "      <th>1193</th>\n",
       "      <td>2025-03-12</td>\n",
       "      <td>-0.5479</td>\n",
       "      <td>-0.1205</td>\n",
       "    </tr>\n",
       "    <tr>\n",
       "      <th>1194</th>\n",
       "      <td>2025-03-14</td>\n",
       "      <td>-0.2000</td>\n",
       "      <td>1.0000</td>\n",
       "    </tr>\n",
       "    <tr>\n",
       "      <th>1195</th>\n",
       "      <td>2025-03-16</td>\n",
       "      <td>0.8808</td>\n",
       "      <td>0.9845</td>\n",
       "    </tr>\n",
       "    <tr>\n",
       "      <th>1196</th>\n",
       "      <td>2025-03-19</td>\n",
       "      <td>0.0000</td>\n",
       "      <td>0.5182</td>\n",
       "    </tr>\n",
       "    <tr>\n",
       "      <th>1197</th>\n",
       "      <td>2025-03-21</td>\n",
       "      <td>0.5000</td>\n",
       "      <td>0.3929</td>\n",
       "    </tr>\n",
       "  </tbody>\n",
       "</table>\n",
       "<p>1198 rows × 3 columns</p>\n",
       "</div>"
      ],
      "text/plain": [
       "           date  Final_Headline_Sentiment  Final_Description_Sentiment\n",
       "0    2018-01-25                    0.0000                       0.3612\n",
       "1    2018-04-12                    0.4732                      -0.4732\n",
       "2    2018-04-16                    0.0000                       0.3400\n",
       "3    2018-04-27                    0.0000                       0.1027\n",
       "4    2018-05-08                    0.1531                       1.0000\n",
       "...         ...                       ...                          ...\n",
       "1193 2025-03-12                   -0.5479                      -0.1205\n",
       "1194 2025-03-14                   -0.2000                       1.0000\n",
       "1195 2025-03-16                    0.8808                       0.9845\n",
       "1196 2025-03-19                    0.0000                       0.5182\n",
       "1197 2025-03-21                    0.5000                       0.3929\n",
       "\n",
       "[1198 rows x 3 columns]"
      ]
     },
     "execution_count": 9,
     "metadata": {},
     "output_type": "execute_result"
    }
   ],
   "source": [
    "news_data"
   ]
  },
  {
   "cell_type": "markdown",
   "id": "32a92959-da30-4e33-93d5-163a1841b99c",
   "metadata": {},
   "source": [
    "## Fetch crypto price data"
   ]
  },
  {
   "cell_type": "code",
   "execution_count": 13,
   "id": "26d55edb-7e71-4583-a4d0-f112125a9ebe",
   "metadata": {},
   "outputs": [
    {
     "name": "stdout",
     "output_type": "stream",
     "text": [
      "YF.download() has changed argument auto_adjust default to True\n"
     ]
    },
    {
     "name": "stderr",
     "output_type": "stream",
     "text": [
      "[*********************100%***********************]  1 of 1 completed\n"
     ]
    }
   ],
   "source": [
    "symbol = 'ADA-USD'\n",
    "interval = '1d'\n",
    "start_date = '2020-07-27'\n",
    "end_date = datetime.today().strftime('%Y-%m-%d')\n",
    "\n",
    "price_data = yf.download(symbol, start=start_date, end=end_date, interval=interval)\n",
    "price_data.reset_index(inplace=True)\n",
    "price_data['Date'] = pd.to_datetime(price_data['Date']).dt.date\n",
    "price_data = price_data.sort_index()\n",
    "price_data.columns = ['Date', 'Close', 'High', 'Low', 'Open', 'Volume']"
   ]
  },
  {
   "cell_type": "code",
   "execution_count": 14,
   "id": "898b4693-9193-47ce-a2b4-f4138d94eb4f",
   "metadata": {},
   "outputs": [
    {
     "data": {
      "text/html": [
       "<div>\n",
       "<style scoped>\n",
       "    .dataframe tbody tr th:only-of-type {\n",
       "        vertical-align: middle;\n",
       "    }\n",
       "\n",
       "    .dataframe tbody tr th {\n",
       "        vertical-align: top;\n",
       "    }\n",
       "\n",
       "    .dataframe thead th {\n",
       "        text-align: right;\n",
       "    }\n",
       "</style>\n",
       "<table border=\"1\" class=\"dataframe\">\n",
       "  <thead>\n",
       "    <tr style=\"text-align: right;\">\n",
       "      <th></th>\n",
       "      <th>Date</th>\n",
       "      <th>Close</th>\n",
       "      <th>High</th>\n",
       "      <th>Low</th>\n",
       "      <th>Open</th>\n",
       "      <th>Volume</th>\n",
       "    </tr>\n",
       "  </thead>\n",
       "  <tbody>\n",
       "    <tr>\n",
       "      <th>0</th>\n",
       "      <td>2020-07-27</td>\n",
       "      <td>0.138771</td>\n",
       "      <td>0.149314</td>\n",
       "      <td>0.130259</td>\n",
       "      <td>0.147891</td>\n",
       "      <td>745732008</td>\n",
       "    </tr>\n",
       "    <tr>\n",
       "      <th>1</th>\n",
       "      <td>2020-07-28</td>\n",
       "      <td>0.148598</td>\n",
       "      <td>0.150220</td>\n",
       "      <td>0.135519</td>\n",
       "      <td>0.138762</td>\n",
       "      <td>638080214</td>\n",
       "    </tr>\n",
       "    <tr>\n",
       "      <th>2</th>\n",
       "      <td>2020-07-29</td>\n",
       "      <td>0.139879</td>\n",
       "      <td>0.149396</td>\n",
       "      <td>0.139180</td>\n",
       "      <td>0.148647</td>\n",
       "      <td>451915307</td>\n",
       "    </tr>\n",
       "    <tr>\n",
       "      <th>3</th>\n",
       "      <td>2020-07-30</td>\n",
       "      <td>0.140588</td>\n",
       "      <td>0.142189</td>\n",
       "      <td>0.137262</td>\n",
       "      <td>0.139968</td>\n",
       "      <td>257573327</td>\n",
       "    </tr>\n",
       "    <tr>\n",
       "      <th>4</th>\n",
       "      <td>2020-07-31</td>\n",
       "      <td>0.138798</td>\n",
       "      <td>0.140990</td>\n",
       "      <td>0.136542</td>\n",
       "      <td>0.140673</td>\n",
       "      <td>230659122</td>\n",
       "    </tr>\n",
       "    <tr>\n",
       "      <th>...</th>\n",
       "      <td>...</td>\n",
       "      <td>...</td>\n",
       "      <td>...</td>\n",
       "      <td>...</td>\n",
       "      <td>...</td>\n",
       "      <td>...</td>\n",
       "    </tr>\n",
       "    <tr>\n",
       "      <th>1695</th>\n",
       "      <td>2025-03-18</td>\n",
       "      <td>0.702081</td>\n",
       "      <td>0.718133</td>\n",
       "      <td>0.683981</td>\n",
       "      <td>0.718090</td>\n",
       "      <td>697365412</td>\n",
       "    </tr>\n",
       "    <tr>\n",
       "      <th>1696</th>\n",
       "      <td>2025-03-19</td>\n",
       "      <td>0.744200</td>\n",
       "      <td>0.746022</td>\n",
       "      <td>0.701272</td>\n",
       "      <td>0.702084</td>\n",
       "      <td>1096739941</td>\n",
       "    </tr>\n",
       "    <tr>\n",
       "      <th>1697</th>\n",
       "      <td>2025-03-20</td>\n",
       "      <td>0.717517</td>\n",
       "      <td>0.752235</td>\n",
       "      <td>0.713539</td>\n",
       "      <td>0.744232</td>\n",
       "      <td>850609830</td>\n",
       "    </tr>\n",
       "    <tr>\n",
       "      <th>1698</th>\n",
       "      <td>2025-03-21</td>\n",
       "      <td>0.705117</td>\n",
       "      <td>0.726102</td>\n",
       "      <td>0.701755</td>\n",
       "      <td>0.717489</td>\n",
       "      <td>660902108</td>\n",
       "    </tr>\n",
       "    <tr>\n",
       "      <th>1699</th>\n",
       "      <td>2025-03-22</td>\n",
       "      <td>0.700941</td>\n",
       "      <td>0.715205</td>\n",
       "      <td>0.699122</td>\n",
       "      <td>0.705120</td>\n",
       "      <td>458125954</td>\n",
       "    </tr>\n",
       "  </tbody>\n",
       "</table>\n",
       "<p>1700 rows × 6 columns</p>\n",
       "</div>"
      ],
      "text/plain": [
       "            Date     Close      High       Low      Open      Volume\n",
       "0     2020-07-27  0.138771  0.149314  0.130259  0.147891   745732008\n",
       "1     2020-07-28  0.148598  0.150220  0.135519  0.138762   638080214\n",
       "2     2020-07-29  0.139879  0.149396  0.139180  0.148647   451915307\n",
       "3     2020-07-30  0.140588  0.142189  0.137262  0.139968   257573327\n",
       "4     2020-07-31  0.138798  0.140990  0.136542  0.140673   230659122\n",
       "...          ...       ...       ...       ...       ...         ...\n",
       "1695  2025-03-18  0.702081  0.718133  0.683981  0.718090   697365412\n",
       "1696  2025-03-19  0.744200  0.746022  0.701272  0.702084  1096739941\n",
       "1697  2025-03-20  0.717517  0.752235  0.713539  0.744232   850609830\n",
       "1698  2025-03-21  0.705117  0.726102  0.701755  0.717489   660902108\n",
       "1699  2025-03-22  0.700941  0.715205  0.699122  0.705120   458125954\n",
       "\n",
       "[1700 rows x 6 columns]"
      ]
     },
     "execution_count": 14,
     "metadata": {},
     "output_type": "execute_result"
    }
   ],
   "source": [
    "price_data"
   ]
  },
  {
   "cell_type": "code",
   "execution_count": 15,
   "id": "ae04c892-e2cc-47bd-8cc3-9300a7e6ae08",
   "metadata": {},
   "outputs": [],
   "source": [
    "news_data.rename(columns={'date': 'Date'}, inplace=True)\n",
    "price_data['Date'] = pd.to_datetime(price_data['Date'], errors='coerce')\n",
    "news_data['Date'] = pd.to_datetime(news_data['Date'])\n",
    "price_data['Date'] = price_data['Date'].dt.tz_localize(None)"
   ]
  },
  {
   "cell_type": "code",
   "execution_count": 16,
   "id": "7c660838-0300-468c-a5b8-6725bae75569",
   "metadata": {},
   "outputs": [
    {
     "name": "stderr",
     "output_type": "stream",
     "text": [
      "C:\\Users\\acer\\AppData\\Local\\Temp\\ipykernel_13168\\1422718129.py:3: FutureWarning: DataFrame.fillna with 'method' is deprecated and will raise in a future version. Use obj.ffill() or obj.bfill() instead.\n",
      "  merged_data.fillna(method='ffill', inplace=True)\n"
     ]
    }
   ],
   "source": [
    "# Merge news and price data\n",
    "merged_data = pd.merge(news_data, price_data, on='Date', how='right')\n",
    "merged_data.fillna(method='ffill', inplace=True)\n",
    "merged_data.drop(columns=['Final_Headline_Sentiment', 'Volume', 'High', 'Low', 'Open'], inplace=True)"
   ]
  },
  {
   "cell_type": "code",
   "execution_count": 17,
   "id": "76c12bef-02f1-4a13-aec6-3475bfaeaec2",
   "metadata": {},
   "outputs": [
    {
     "data": {
      "text/html": [
       "<div>\n",
       "<style scoped>\n",
       "    .dataframe tbody tr th:only-of-type {\n",
       "        vertical-align: middle;\n",
       "    }\n",
       "\n",
       "    .dataframe tbody tr th {\n",
       "        vertical-align: top;\n",
       "    }\n",
       "\n",
       "    .dataframe thead th {\n",
       "        text-align: right;\n",
       "    }\n",
       "</style>\n",
       "<table border=\"1\" class=\"dataframe\">\n",
       "  <thead>\n",
       "    <tr style=\"text-align: right;\">\n",
       "      <th></th>\n",
       "      <th>Date</th>\n",
       "      <th>Final_Description_Sentiment</th>\n",
       "      <th>Sentiment_Category</th>\n",
       "      <th>Close</th>\n",
       "    </tr>\n",
       "  </thead>\n",
       "  <tbody>\n",
       "    <tr>\n",
       "      <th>0</th>\n",
       "      <td>2020-07-27</td>\n",
       "      <td>0.1027</td>\n",
       "      <td>Neutral</td>\n",
       "      <td>0.138771</td>\n",
       "    </tr>\n",
       "    <tr>\n",
       "      <th>1</th>\n",
       "      <td>2020-07-28</td>\n",
       "      <td>0.2000</td>\n",
       "      <td>Neutral</td>\n",
       "      <td>0.148598</td>\n",
       "    </tr>\n",
       "    <tr>\n",
       "      <th>2</th>\n",
       "      <td>2020-07-29</td>\n",
       "      <td>0.0000</td>\n",
       "      <td>Neutral</td>\n",
       "      <td>0.139879</td>\n",
       "    </tr>\n",
       "    <tr>\n",
       "      <th>3</th>\n",
       "      <td>2020-07-30</td>\n",
       "      <td>0.5716</td>\n",
       "      <td>Neutral</td>\n",
       "      <td>0.140588</td>\n",
       "    </tr>\n",
       "    <tr>\n",
       "      <th>4</th>\n",
       "      <td>2020-07-31</td>\n",
       "      <td>0.4772</td>\n",
       "      <td>Positive</td>\n",
       "      <td>0.138798</td>\n",
       "    </tr>\n",
       "    <tr>\n",
       "      <th>...</th>\n",
       "      <td>...</td>\n",
       "      <td>...</td>\n",
       "      <td>...</td>\n",
       "      <td>...</td>\n",
       "    </tr>\n",
       "    <tr>\n",
       "      <th>1695</th>\n",
       "      <td>2025-03-18</td>\n",
       "      <td>0.9845</td>\n",
       "      <td>Positive</td>\n",
       "      <td>0.702081</td>\n",
       "    </tr>\n",
       "    <tr>\n",
       "      <th>1696</th>\n",
       "      <td>2025-03-19</td>\n",
       "      <td>0.5182</td>\n",
       "      <td>Neutral</td>\n",
       "      <td>0.744200</td>\n",
       "    </tr>\n",
       "    <tr>\n",
       "      <th>1697</th>\n",
       "      <td>2025-03-20</td>\n",
       "      <td>0.5182</td>\n",
       "      <td>Neutral</td>\n",
       "      <td>0.717517</td>\n",
       "    </tr>\n",
       "    <tr>\n",
       "      <th>1698</th>\n",
       "      <td>2025-03-21</td>\n",
       "      <td>0.3929</td>\n",
       "      <td>Neutral</td>\n",
       "      <td>0.705117</td>\n",
       "    </tr>\n",
       "    <tr>\n",
       "      <th>1699</th>\n",
       "      <td>2025-03-22</td>\n",
       "      <td>0.3929</td>\n",
       "      <td>Neutral</td>\n",
       "      <td>0.700941</td>\n",
       "    </tr>\n",
       "  </tbody>\n",
       "</table>\n",
       "<p>1700 rows × 4 columns</p>\n",
       "</div>"
      ],
      "text/plain": [
       "           Date  Final_Description_Sentiment Sentiment_Category     Close\n",
       "0    2020-07-27                       0.1027            Neutral  0.138771\n",
       "1    2020-07-28                       0.2000            Neutral  0.148598\n",
       "2    2020-07-29                       0.0000            Neutral  0.139879\n",
       "3    2020-07-30                       0.5716            Neutral  0.140588\n",
       "4    2020-07-31                       0.4772           Positive  0.138798\n",
       "...         ...                          ...                ...       ...\n",
       "1695 2025-03-18                       0.9845           Positive  0.702081\n",
       "1696 2025-03-19                       0.5182            Neutral  0.744200\n",
       "1697 2025-03-20                       0.5182            Neutral  0.717517\n",
       "1698 2025-03-21                       0.3929            Neutral  0.705117\n",
       "1699 2025-03-22                       0.3929            Neutral  0.700941\n",
       "\n",
       "[1700 rows x 4 columns]"
      ]
     },
     "execution_count": 17,
     "metadata": {},
     "output_type": "execute_result"
    }
   ],
   "source": [
    "merged_data"
   ]
  },
  {
   "cell_type": "markdown",
   "id": "d89a7a87-02fb-4345-9275-1bbac6bbe57f",
   "metadata": {},
   "source": [
    "## Model Development with hypeparameter tuning"
   ]
  },
  {
   "cell_type": "code",
   "execution_count": 19,
   "id": "febc552e-f1fd-4548-b462-eea7ba8d122c",
   "metadata": {},
   "outputs": [],
   "source": [
    "# Define window size\n",
    "window_size = 2\n",
    "\n",
    "def create_sequences(data, window_size):\n",
    "    \"\"\"Create sequences of past prices for training.\"\"\"\n",
    "    X, y = [], []\n",
    "    for i in range(len(data) - window_size):\n",
    "        X.append(data[i:i + window_size])\n",
    "        y.append(data[i + window_size])\n",
    "    return np.array(X), np.array(y)"
   ]
  },
  {
   "cell_type": "code",
   "execution_count": 20,
   "id": "8307cdd0-841a-43be-9ef5-ade582e455cb",
   "metadata": {},
   "outputs": [],
   "source": [
    "# Prepare dataset\n",
    "input_features = merged_data[['Final_Description_Sentiment', 'Close']]\n",
    "scaler = MinMaxScaler()\n",
    "scaled_data = scaler.fit_transform(input_features)\n",
    "\n",
    "X, y = create_sequences(scaled_data[:, 1], window_size)\n",
    "sentiment_data = scaled_data[window_size:, 0].reshape(-1, 1)\n",
    "X = np.concatenate((X, sentiment_data), axis=1)\n",
    "\n",
    "train_size = int(len(X) * 0.8)\n",
    "X_train, X_test = X[:train_size], X[train_size:]\n",
    "y_train, y_test = y[:train_size], y[train_size:]\n",
    "\n",
    "X_train = X_train.reshape(X_train.shape[0], X_train.shape[1], 1)\n",
    "X_test = X_test.reshape(X_test.shape[0], X_test.shape[1], 1)"
   ]
  },
  {
   "cell_type": "code",
   "execution_count": 21,
   "id": "3696e187-8143-4435-927b-7e48040e9f59",
   "metadata": {},
   "outputs": [
    {
     "name": "stdout",
     "output_type": "stream",
     "text": [
      "Reloading Tuner from keras_tuner\\gru_tuning_d1\\tuner0.json\n"
     ]
    }
   ],
   "source": [
    "from tensorflow.keras.models import Sequential\n",
    "from tensorflow.keras.layers import GRU, Dropout, Dense, Bidirectional\n",
    "\n",
    "# GRU Model\n",
    "def build_gru_model(hp):\n",
    "    model = Sequential()\n",
    "    model.add((GRU(units=hp.Int('gru_units_1', 32, 128, 32), return_sequences=True, input_shape=(window_size + 1, 1))))\n",
    "    model.add(Dropout(rate=hp.Float('dropout_1', 0.1, 0.5, 0.1)))\n",
    "    model.add((GRU(units=hp.Int('gru_units_2', 16, 64, 16), return_sequences=False)))\n",
    "    model.add(Dropout(rate=hp.Float('dropout_2', 0.1, 0.5, 0.1)))\n",
    "    model.add(Dense(units=1))\n",
    "    model.compile(optimizer=hp.Choice('optimizer', ['adam', 'rmsprop']), loss='mean_squared_error', metrics=['mean_squared_error'])\n",
    "    return model\n",
    "\n",
    "tuner = kt.Hyperband(build_gru_model, objective='val_loss', max_epochs=50, factor=3, directory='keras_tuner', project_name='gru_tuning_d1')\n",
    "early_stopping = EarlyStopping(monitor='val_loss', patience=10, restore_best_weights=True)\n",
    "reduce_lr = ReduceLROnPlateau(monitor='val_loss', factor=0.5, patience=5)"
   ]
  },
  {
   "cell_type": "code",
   "execution_count": 22,
   "id": "8736e334-a079-4c35-b480-73e7e438c296",
   "metadata": {},
   "outputs": [
    {
     "name": "stdout",
     "output_type": "stream",
     "text": [
      "WARNING:tensorflow:From C:\\Users\\acer\\anaconda3\\Lib\\site-packages\\keras\\src\\backend\\common\\global_state.py:82: The name tf.reset_default_graph is deprecated. Please use tf.compat.v1.reset_default_graph instead.\n",
      "\n"
     ]
    },
    {
     "name": "stderr",
     "output_type": "stream",
     "text": [
      "C:\\Users\\acer\\anaconda3\\Lib\\site-packages\\keras\\src\\layers\\rnn\\rnn.py:204: UserWarning: Do not pass an `input_shape`/`input_dim` argument to a layer. When using Sequential models, prefer using an `Input(shape)` object as the first layer in the model instead.\n",
      "  super().__init__(**kwargs)\n",
      "C:\\Users\\acer\\anaconda3\\Lib\\site-packages\\keras\\src\\saving\\saving_lib.py:719: UserWarning: Skipping variable loading for optimizer 'adam', because it has 2 variables whereas the saved optimizer has 18 variables. \n",
      "  saveable.load_own_variables(weights_store.get(inner_path))\n",
      "WARNING:absl:You are saving your model as an HDF5 file via `model.save()` or `keras.saving.save_model(model)`. This file format is considered legacy. We recommend using instead the native Keras format, e.g. `model.save('my_model.keras')` or `keras.saving.save_model(model, 'my_model.keras')`. \n"
     ]
    }
   ],
   "source": [
    "tuner.search(X_train, y_train, validation_data=(X_test, y_test), epochs=50, batch_size=32, callbacks=[early_stopping, reduce_lr])\n",
    "best_model = tuner.get_best_models(num_models=1)[0]\n",
    "best_model.save('best_model_D_gru.h5')"
   ]
  },
  {
   "cell_type": "code",
   "execution_count": 23,
   "id": "ff91d37f-bda4-41c8-ab0e-aae798ac61d6",
   "metadata": {},
   "outputs": [
    {
     "name": "stdout",
     "output_type": "stream",
     "text": [
      "Best GRU Units Layer 1: 128\n",
      "Best GRU Units Layer 2: 64\n",
      "Best Dropout Rate Layer 1: 0.1\n",
      "Best Dropout Rate Layer 2: 0.1\n",
      "Best Optimizer: adam\n"
     ]
    }
   ],
   "source": [
    "# Get the best hyperparameters\n",
    "best_hps = tuner.get_best_hyperparameters(num_trials=1)[0]\n",
    "\n",
    "# Print the best hyperparameter values\n",
    "print(f\"Best GRU Units Layer 1: {best_hps.get('gru_units_1')}\")\n",
    "print(f\"Best GRU Units Layer 2: {best_hps.get('gru_units_2')}\")\n",
    "print(f\"Best Dropout Rate Layer 1: {best_hps.get('dropout_1')}\")\n",
    "print(f\"Best Dropout Rate Layer 2: {best_hps.get('dropout_2')}\")\n",
    "print(f\"Best Optimizer: {best_hps.get('optimizer')}\")\n"
   ]
  },
  {
   "cell_type": "code",
   "execution_count": 24,
   "id": "15b7d586-757d-4d6e-8942-d582994bc2e6",
   "metadata": {},
   "outputs": [
    {
     "data": {
      "text/plain": [
       "['scaler_GD.pkl']"
      ]
     },
     "execution_count": 24,
     "metadata": {},
     "output_type": "execute_result"
    }
   ],
   "source": [
    "joblib.dump(scaler, 'scaler_GD.pkl')"
   ]
  },
  {
   "cell_type": "markdown",
   "id": "6b43c24f-9bb7-4cb0-ae40-cb3efa2805c6",
   "metadata": {},
   "source": [
    "## Error Analysis"
   ]
  },
  {
   "cell_type": "code",
   "execution_count": 26,
   "id": "0fab191d-06d6-4491-b8e5-3ee4fea5f0c3",
   "metadata": {},
   "outputs": [
    {
     "name": "stderr",
     "output_type": "stream",
     "text": [
      "WARNING:absl:Compiled the loaded model, but the compiled metrics have yet to be built. `model.compile_metrics` will be empty until you train or evaluate the model.\n"
     ]
    },
    {
     "name": "stdout",
     "output_type": "stream",
     "text": [
      "\u001b[1m11/11\u001b[0m \u001b[32m━━━━━━━━━━━━━━━━━━━━\u001b[0m\u001b[37m\u001b[0m \u001b[1m2s\u001b[0m 92ms/step\n"
     ]
    }
   ],
   "source": [
    "# Load the best saved GRU model and scaler\n",
    "best_model = tf.keras.models.load_model('best_model_D_gru.h5')\n",
    "scaler = joblib.load('scaler_GD.pkl')\n",
    "\n",
    "# Make predictions on test data\n",
    "y_pred_scaled = best_model.predict(X_test)\n",
    "\n",
    "# Reverse scale the predictions\n",
    "y_pred = scaler.inverse_transform(np.hstack((np.zeros((y_pred_scaled.shape[0], 1)), y_pred_scaled)))[:, 1]\n",
    "y_test_actual = scaler.inverse_transform(np.hstack((np.zeros((y_test.shape[0], 1)), y_test.reshape(-1, 1))))[:, 1]\n",
    "\n",
    "# Create a DataFrame for visualization\n",
    "error_df = pd.DataFrame({\n",
    "    'Date': merged_data['Date'].iloc[-len(y_test):].values,\n",
    "    'Actual': y_test_actual,\n",
    "    'Predicted': y_pred\n",
    "})\n"
   ]
  },
  {
   "cell_type": "code",
   "execution_count": 27,
   "id": "0f676cda-ecc1-458b-886f-b817f23910ef",
   "metadata": {},
   "outputs": [
    {
     "data": {
      "image/png": "[encoded data removed]",
      "text/plain": [
       "<Figure size 1200x400 with 1 Axes>"
      ]
     },
     "metadata": {},
     "output_type": "display_data"
    }
   ],
   "source": [
    "# Plot Actual vs Predicted prices\n",
    "plt.figure(figsize=(12, 4))\n",
    "plt.plot(error_df['Date'], error_df['Actual'], label='Actual', color='blue', linestyle='dashed')\n",
    "plt.plot(error_df['Date'], error_df['Predicted'], label='Predicted', color='red', linestyle='dashed')\n",
    "\n",
    "plt.xticks(rotation=45, ha='right')\n",
    "plt.xlabel('Date')\n",
    "plt.ylabel('Price')\n",
    "plt.title(f'Actual vs Predicted Prices')\n",
    "plt.legend()\n",
    "plt.grid()\n",
    "plt.show()"
   ]
  },
  {
   "cell_type": "code",
   "execution_count": 28,
   "id": "272d8f2c-7f32-4275-a9a4-d48c295fbdfc",
   "metadata": {},
   "outputs": [
    {
     "data": {
      "image/png": "[encoded data removed]",
      "text/plain": [
       "<Figure size 1200x400 with 1 Axes>"
      ]
     },
     "metadata": {},
     "output_type": "display_data"
    }
   ],
   "source": [
    "# Compute residuals\n",
    "error_df['Residuals'] = error_df['Actual'] - error_df['Predicted']\n",
    "\n",
    "# Plot Residuals Over Time\n",
    "plt.figure(figsize=(12, 4))\n",
    "plt.plot(error_df['Date'], error_df['Residuals'], color='orange', label='Residuals')\n",
    "plt.axhline(y=0, color='black', linestyle='--')\n",
    "plt.xlabel('Date')\n",
    "plt.ylabel('Residuals')\n",
    "plt.title('Residuals Over Time')\n",
    "plt.legend()\n",
    "plt.grid()\n",
    "plt.xticks(rotation=45, ha='right')\n",
    "plt.show()\n"
   ]
  },
  {
   "cell_type": "code",
   "execution_count": 29,
   "id": "5f91f332-2a4e-45fd-bc0d-22c0a2053a44",
   "metadata": {},
   "outputs": [
    {
     "data": {
      "image/png": "[encoded data removed]",
      "text/plain": [
       "<Figure size 1200x400 with 1 Axes>"
      ]
     },
     "metadata": {},
     "output_type": "display_data"
    }
   ],
   "source": [
    "# Plot Residuals Distribution\n",
    "plt.figure(figsize=(12, 4))\n",
    "sns.histplot(error_df['Residuals'], bins=30, kde=True, color='red')\n",
    "plt.xlabel('Residuals')\n",
    "plt.ylabel('Frequency')\n",
    "plt.title('Residuals Distribution')\n",
    "plt.grid()\n",
    "plt.show()\n"
   ]
  },
  {
   "cell_type": "code",
   "execution_count": 30,
   "id": "33ffe469-5725-4f77-bc59-2c2e5dd59c43",
   "metadata": {},
   "outputs": [
    {
     "name": "stdout",
     "output_type": "stream",
     "text": [
      "\n",
      "Error Analysis Metrics:\n",
      "                                    Metric     Value\n",
      "0                Mean Absolute Error (MAE)  0.026906\n",
      "1    Mean Absolute Percentage Error (MAPE)  4.111900\n",
      "2  Weighted Mean Absolute Deviation (WMAD)  0.045805\n",
      "3                         Average Accuracy  0.954195\n"
     ]
    }
   ],
   "source": [
    "# Compute Mean Absolute Error (MAE)\n",
    "mae = mean_absolute_error(error_df['Actual'], error_df['Predicted'])\n",
    "\n",
    "# Compute Mean Absolute Percentage Error (MAPE)\n",
    "def mean_absolute_percentage_error(y_actual, y_pred):\n",
    "    mask = y_actual != 0  # Avoid division by zero\n",
    "    return np.mean(np.abs((y_actual[mask] - y_pred[mask]) / y_actual[mask])) * 100\n",
    "\n",
    "mape = mean_absolute_percentage_error(error_df['Actual'].values, error_df['Predicted'].values)\n",
    "\n",
    "# Compute Weighted Mean Absolute Deviation (WMAD)\n",
    "actual_values = error_df['Actual'].values\n",
    "predicted_values = error_df['Predicted'].values\n",
    "\n",
    "# Avoid division by zero by replacing zeros in actual values with a small number\n",
    "actual_zero_adjusted = np.where(actual_values == 0, 1e-10, actual_values)\n",
    "wmad = np.sum(np.abs(actual_values - predicted_values)) / np.sum(actual_zero_adjusted)\n",
    "\n",
    "# Compute Average Accuracy\n",
    "avg_accuracy = 1 - wmad\n",
    "\n",
    "# Store error metrics in a DataFrame for easier reference\n",
    "error_metrics = pd.DataFrame({\n",
    "    'Metric': [\n",
    "        'Mean Absolute Error (MAE)', \n",
    "        'Mean Absolute Percentage Error (MAPE)', \n",
    "        'Weighted Mean Absolute Deviation (WMAD)', \n",
    "        'Average Accuracy'\n",
    "    ],\n",
    "    'Value': [mae, mape, wmad, avg_accuracy]\n",
    "})\n",
    "\n",
    "# Print Error Metrics\n",
    "print(\"\\nError Analysis Metrics:\")\n",
    "print(error_metrics)\n"
   ]
  },
  {
   "cell_type": "markdown",
   "id": "322df7ef-8b5c-4e88-a413-b83d2f6c32b1",
   "metadata": {},
   "source": [
    "## prediction"
   ]
  },
  {
   "cell_type": "code",
   "execution_count": 32,
   "id": "82cb083e-28d1-4c51-b674-0c984533915a",
   "metadata": {},
   "outputs": [
    {
     "name": "stderr",
     "output_type": "stream",
     "text": [
      "WARNING:absl:Compiled the loaded model, but the compiled metrics have yet to be built. `model.compile_metrics` will be empty until you train or evaluate the model.\n",
      "C:\\Users\\acer\\AppData\\Local\\Temp\\ipykernel_13168\\2347858695.py:79: UserWarning: pandas only supports SQLAlchemy connectable (engine/connection) or database string URI or sqlite3 DBAPI2 connection. Other DBAPI2 objects are not tested. Please consider using SQLAlchemy.\n",
      "  news_data = pd.read_sql_query(query, conn)\n",
      "C:\\Users\\acer\\AppData\\Local\\Temp\\ipykernel_13168\\2347858695.py:91: UserWarning: pandas only supports SQLAlchemy connectable (engine/connection) or database string URI or sqlite3 DBAPI2 connection. Other DBAPI2 objects are not tested. Please consider using SQLAlchemy.\n",
      "  last_news = pd.read_sql_query(query, conn)\n",
      "[*********************100%***********************]  1 of 1 completed\n",
      "C:\\Users\\acer\\anaconda3\\Lib\\site-packages\\sklearn\\base.py:465: UserWarning: X does not have valid feature names, but MinMaxScaler was fitted with feature names\n",
      "  warnings.warn(\n"
     ]
    },
    {
     "name": "stdout",
     "output_type": "stream",
     "text": [
      "\u001b[1m1/1\u001b[0m \u001b[32m━━━━━━━━━━━━━━━━━━━━\u001b[0m\u001b[37m\u001b[0m \u001b[1m1s\u001b[0m 785ms/step\n",
      "Predicted Closing Price for ADA-USD on 2025-03-24: $0.6892\n"
     ]
    }
   ],
   "source": [
    "import numpy as np\n",
    "import pandas as pd\n",
    "import yfinance as yf\n",
    "import joblib\n",
    "import tensorflow as tf\n",
    "import mysql.connector\n",
    "from datetime import datetime, timedelta\n",
    "import re\n",
    "import spacy\n",
    "from nltk.sentiment.vader import SentimentIntensityAnalyzer\n",
    "\n",
    "# Load Trained Model & Scaler\n",
    "model = tf.keras.models.load_model('best_model_D_gru.h5')\n",
    "scaler = joblib.load('scaler_GD.pkl')\n",
    "\n",
    "# Load NLP Model & Sentiment Analyzer\n",
    "nlp = spacy.load(\"en_core_web_sm\", disable=[\"parser\", \"ner\"])\n",
    "analyzer = SentimentIntensityAnalyzer()\n",
    "\n",
    "# Load Loughran-McDonald Sentiment Dictionary\n",
    "lm_positive = {\"gain\", \"growth\", \"bullish\", \"opportunity\", \"profit\", \"surge\", \"expansion\",\n",
    "    \"adoption\", \"approval\", \"partnership\", \"innovation\", \"mainstream\", \"rally\",\n",
    "    \"institutional\", \"breakthrough\", \"stability\", \"strong\", \"all-time-high\",\n",
    "    \"liquidity\", \"halving\", \"scarcity\", \"whale accumulation\", \"stake\", \"integration\",\n",
    "    \"etf approval\", \"layer 2 scaling\", \"metaverse expansion\", \"positive outlook\"}\n",
    "\n",
    "lm_negative = {\"crash\", \"loss\", \"bearish\", \"decline\", \"debt\", \"bankruptcy\", \"downturn\",\n",
    "    \"regulatory crackdown\", \"ban\", \"fud\", \"lawsuit\", \"hacked\", \"ponzi\",\n",
    "    \"liquidation\", \"fraud\", \"scam\", \"rug pull\", \"dumping\", \"sell-off\",\n",
    "    \"volatility\", \"delisting\", \"depeg\", \"inflation\", \"recession\", \"exchange insolvency\",\n",
    "    \"crypto winter\", \"negative outlook\"}\n",
    "\n",
    "# Preprocessing Functions\n",
    "def preprocess_text(text):\n",
    "    \"\"\"Cleans, removes stopwords, and lemmatizes input text.\"\"\"\n",
    "    if pd.isnull(text):\n",
    "        return \"\"\n",
    "    text = text.lower()\n",
    "    text = re.sub(r\"http\\S+\", \"\", text)  \n",
    "    text = re.sub(r\"[^a-zA-Z\\s]\", \"\", text)  \n",
    "    text = re.sub(r\"\\s+\", \" \", text).strip()  \n",
    "    doc = nlp(text)\n",
    "    return \" \".join([token.lemma_ for token in doc if not token.is_stop])\n",
    "\n",
    "def financial_sentiment_adjustment(text, vader_score):\n",
    "    \"\"\"Adjust sentiment score using the Loughran-McDonald financial lexicon.\"\"\"\n",
    "    words = text.split()\n",
    "    adjustment = sum(0.2 if word in lm_positive else -0.2 if word in lm_negative else 0 for word in words)\n",
    "    return max(min(vader_score + adjustment, 1), -1)\n",
    "\n",
    "def preprocess_news(news_data):\n",
    "    \"\"\"Preprocess news headlines & descriptions, and extract sentiment scores.\"\"\"\n",
    "    news_data[\"cleaned_headline\"] = news_data[\"headline\"].astype(str).apply(preprocess_text)\n",
    "    news_data[\"cleaned_description\"] = news_data[\"description\"].astype(str).apply(preprocess_text)\n",
    "\n",
    "    news_data[\"VADER_Headline_Sentiment\"] = news_data[\"cleaned_headline\"].apply(lambda x: analyzer.polarity_scores(x)[\"compound\"])\n",
    "    news_data[\"VADER_Description_Sentiment\"] = news_data[\"cleaned_description\"].apply(lambda x: analyzer.polarity_scores(x)[\"compound\"])\n",
    "\n",
    "    news_data[\"Final_Headline_Sentiment\"] = news_data.apply(\n",
    "        lambda row: financial_sentiment_adjustment(row[\"cleaned_headline\"], row[\"VADER_Headline_Sentiment\"]), axis=1\n",
    "    )\n",
    "    news_data[\"Final_Description_Sentiment\"] = news_data.apply(\n",
    "        lambda row: financial_sentiment_adjustment(row[\"cleaned_description\"], row[\"VADER_Description_Sentiment\"]), axis=1\n",
    "    )\n",
    "\n",
    "    news_data[\"date\"] = pd.to_datetime(news_data[\"date\"], errors=\"coerce\")\n",
    "    return news_data[[\"date\", \"Final_Description_Sentiment\"]].drop_duplicates()\n",
    "\n",
    "# Fetch Latest News Data\n",
    "def fetch_latest_news():\n",
    "    try:\n",
    "        conn = mysql.connector.connect(\n",
    "            host='localhost',\n",
    "            user='root',\n",
    "            password='Ariyarathne99@',\n",
    "            database='crypto_news'\n",
    "        )\n",
    "        query = \"SELECT date, headline, description FROM ada_news WHERE date >= CURDATE() - INTERVAL 2 DAY\"\n",
    "        news_data = pd.read_sql_query(query, conn)\n",
    "        conn.close()\n",
    "\n",
    "        if news_data.empty:\n",
    "            # If no news today, fetch last available news\n",
    "            query = \"SELECT date, headline, description FROM ada_news ORDER BY date DESC LIMIT 1\"\n",
    "            conn = mysql.connector.connect(\n",
    "                host='localhost',\n",
    "                user='root',\n",
    "                password='Ariyarathne99@',\n",
    "                database='crypto_news'\n",
    "            )\n",
    "            last_news = pd.read_sql_query(query, conn)\n",
    "            conn.close()\n",
    "            news_data = last_news if not last_news.empty else pd.DataFrame(columns=[\"date\", \"headline\", \"description\"])\n",
    "\n",
    "        return news_data\n",
    "\n",
    "    except mysql.connector.Error as err:\n",
    "        print(f\"Error fetching news: {err}\")\n",
    "        return pd.DataFrame(columns=[\"date\", \"headline\", \"description\"])\n",
    "\n",
    "news_data = fetch_latest_news()\n",
    "news_data = preprocess_news(news_data)\n",
    "\n",
    "# Get latest available sentiment (ONLY FROM DESCRIPTION)\n",
    "if not news_data.empty:\n",
    "    latest_sentiment = news_data[\"Final_Description_Sentiment\"].iloc[-1]\n",
    "else:\n",
    "    latest_sentiment = 0  # Default sentiment if no news available\n",
    "\n",
    "# Fetch Latest Price Data\n",
    "symbol = 'ADA-USD'\n",
    "window_size = 2\n",
    "end_date = datetime.today().strftime('%Y-%m-%d')\n",
    "start_date = (datetime.today() - timedelta(days=window_size + 2)).strftime('%Y-%m-%d')\n",
    "\n",
    "price_data = yf.download(symbol, start=start_date, end=end_date, interval='1d')\n",
    "price_data.reset_index(inplace=True)\n",
    "price_data = price_data[['Date', 'Close']].tail(window_size)  # Take last `window_size` rows\n",
    "\n",
    "# Convert Date to Normal Format\n",
    "price_data['Date'] = pd.to_datetime(price_data['Date']).dt.date\n",
    "latest_prices = price_data['Close'].values\n",
    "\n",
    "# Prepare Data for Prediction\n",
    "sentiment_input = np.array([[latest_sentiment]] * window_size)  # Repeat latest sentiment\n",
    "scaled_prices = scaler.transform(np.column_stack((sentiment_input, latest_prices)))\n",
    "\n",
    "X_input = scaled_prices[:, 1].reshape(1, window_size, 1)  # Closing prices\n",
    "sentiment_input = np.array([[latest_sentiment]]).reshape(1, 1, 1)  # Single latest sentiment score\n",
    "\n",
    "# Combine Inputs\n",
    "X_input = np.concatenate((X_input, sentiment_input), axis=1)\n",
    "\n",
    "# Predict Next Day's Price\n",
    "predicted_scaled_price = model.predict(X_input)\n",
    "predicted_price = scaler.inverse_transform([[0, predicted_scaled_price[0][0]]])[0][1]\n",
    "\n",
    "# Save Prediction\n",
    "prediction_date = datetime.today().strftime('%Y-%m-%d')\n",
    "print(f\"Predicted Closing Price for {symbol} on {prediction_date}: ${predicted_price:.4f}\")\n"
   ]
  },
  {
   "cell_type": "code",
   "execution_count": null,
   "id": "cdb6dd71-f9de-45b0-a3c6-37c55270d7b2",
   "metadata": {},
   "outputs": [],
   "source": []
  }
 ],
 "metadata": {
  "kernelspec": {
   "display_name": "Python 3 (ipykernel)",
   "language": "python",
   "name": "python3"
  },
  "language_info": {
   "codemirror_mode": {
    "name": "ipython",
    "version": 3
   },
   "file_extension": ".py",
   "mimetype": "text/x-python",
   "name": "python",
   "nbconvert_exporter": "python",
   "pygments_lexer": "ipython3",
   "version": "3.12.7"
  }
 },
 "nbformat": 4,
 "nbformat_minor": 5
}
